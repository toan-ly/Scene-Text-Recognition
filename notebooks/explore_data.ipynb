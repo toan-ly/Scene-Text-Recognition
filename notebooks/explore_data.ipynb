{
  "cells": [
    {
      "cell_type": "markdown",
      "metadata": {
        "id": "2UN0l9l1mxcP"
      },
      "source": [
        "## Extract Data"
      ]
    },
    {
      "cell_type": "code",
      "execution_count": null,
      "metadata": {
        "colab": {
          "base_uri": "https://localhost:8080/"
        },
        "id": "f1J8th7DgmeL",
        "outputId": "b44b82e9-48ae-4695-fabb-64e54fdede52"
      },
      "outputs": [
        {
          "name": "stdout",
          "output_type": "stream",
          "text": [
            "Downloading...\n",
            "From (original): https://drive.google.com/uc?id=1kUy2tuH-kKBlFCNA0a9sqD2TG4uyvBnV\n",
            "From (redirected): https://drive.google.com/uc?id=1kUy2tuH-kKBlFCNA0a9sqD2TG4uyvBnV&confirm=t&uuid=7f6cf8d6-42ed-4b14-9191-fbae8ef1e29f\n",
            "To: /content/icdar2003.zip\n",
            "100% 45.7M/45.7M [00:01<00:00, 32.4MB/s]\n"
          ]
        }
      ],
      "source": [
        "!gdown 1kUy2tuH-kKBlFCNA0a9sqD2TG4uyvBnV\n",
        "!unzip -q icdar2003.zip -d datasets"
      ]
    },
    {
      "cell_type": "code",
      "execution_count": null,
      "metadata": {
        "colab": {
          "base_uri": "https://localhost:8080/"
        },
        "id": "z38TmOIngstR",
        "outputId": "53132822-e527-4fde-a8bf-8a4b24d403ba"
      },
      "outputs": [
        {
          "data": {
            "text/plain": [
              "<Element 'tagset' at 0x78635c8a2f20>"
            ]
          },
          "execution_count": 4,
          "metadata": {},
          "output_type": "execute_result"
        }
      ],
      "source": [
        "import xml.etree.ElementTree as ET\n",
        "\n",
        "path = './datasets/SceneTrialTrain/words.xml'\n",
        "tree = ET.parse(path)\n",
        "root = tree.getroot()\n",
        "root"
      ]
    },
    {
      "cell_type": "code",
      "execution_count": null,
      "metadata": {
        "colab": {
          "base_uri": "https://localhost:8080/"
        },
        "id": "Q-YRSsT8g7Nq",
        "outputId": "887fae8b-68d3-48aa-850d-856e3c60f5d2"
      },
      "outputs": [
        {
          "name": "stdout",
          "output_type": "stream",
          "text": [
            "[<Element 'image' at 0x78635c8a2f70>, <Element 'image' at 0x78635c8a3ba0>, <Element 'image' at 0x78635c8a3e20>, <Element 'image' at 0x78635c8c0950>, <Element 'image' at 0x78635c8c1bc0>, <Element 'image' at 0x78635c8c24d0>, <Element 'image' at 0x78635c8c2de0>, <Element 'image' at 0x78635c8c3ab0>, <Element 'image' at 0x78635c8e0a90>, <Element 'image' at 0x78635c8e12b0>]\n"
          ]
        }
      ],
      "source": [
        "print(root[:10])"
      ]
    },
    {
      "cell_type": "code",
      "execution_count": null,
      "metadata": {
        "colab": {
          "base_uri": "https://localhost:8080/"
        },
        "id": "9KHd_mHHhD_B",
        "outputId": "88d491c2-2e9c-47e6-d8a6-f278ff4af743"
      },
      "outputs": [
        {
          "name": "stdout",
          "output_type": "stream",
          "text": [
            "apanar_06.08.2002/IMG_1261.JPG\n",
            "{'x': '1600', 'y': '1200'}\n",
            "apanar_06.08.2002/IMG_1263.JPG\n",
            "{'x': '1600', 'y': '1200'}\n",
            "apanar_06.08.2002/IMG_1265.JPG\n",
            "{'x': '1600', 'y': '1200'}\n",
            "apanar_06.08.2002/IMG_1269.JPG\n",
            "{'x': '1600', 'y': '1200'}\n",
            "apanar_06.08.2002/IMG_1281.JPG\n",
            "{'x': '1600', 'y': '1200'}\n"
          ]
        }
      ],
      "source": [
        "i = 0\n",
        "for im in root:\n",
        "    print(im[0].text)\n",
        "    print(im[1].attrib)\n",
        "    i += 1\n",
        "    if i == 5:\n",
        "        break"
      ]
    },
    {
      "cell_type": "code",
      "execution_count": 25,
      "metadata": {
        "colab": {
          "base_uri": "https://localhost:8080/"
        },
        "id": "00x2Wi9XhNz5",
        "outputId": "5ef0064d-2fbd-4402-f537-e8fbe92a5a69"
      },
      "outputs": [
        {
          "name": "stdout",
          "output_type": "stream",
          "text": [
            "self\n",
            "{'x': '174.0', 'y': '392.0', 'width': '274.0', 'height': '195.0', 'offset': '0.0', 'rotation': '0.0', 'userName': 'admin'}\n",
            "adhesive\n",
            "{'x': '512.0', 'y': '391.0', 'width': '679.0', 'height': '183.0', 'offset': '0.0', 'rotation': '0.0', 'userName': 'admin'}\n",
            "address\n",
            "{'x': '184.0', 'y': '612.0', 'width': '622.0', 'height': '174.0', 'offset': '-2.0', 'rotation': '0.0', 'userName': 'admin'}\n",
            "labels\n",
            "{'x': '863.0', 'y': '599.0', 'width': '446.0', 'height': '187.0', 'offset': '0.0', 'rotation': '0.0', 'userName': 'admin'}\n",
            "36\n",
            "{'x': '72.0', 'y': '6.0', 'width': '95.0', 'height': '87.0', 'offset': '0.0', 'rotation': '0.0', 'userName': 'admin'}\n",
            "89m\n",
            "{'x': '247.0', 'y': '2.0', 'width': '197.0', 'height': '88.0', 'offset': '0.0', 'rotation': '0.0', 'userName': 'admin'}\n",
            "cls\n",
            "{'x': '792.0', 'y': '0.0', 'width': '115.0', 'height': '81.0', 'offset': '0.0', 'rotation': '0.0', 'userName': 'admin'}\n",
            "250\n",
            "{'x': '200.0', 'y': '848.0', 'width': '228.0', 'height': '139.0', 'offset': '0.0', 'rotation': '0.0', 'userName': 'admin'}\n",
            "on\n",
            "{'x': '473.0', 'y': '878.0', 'width': '165.0', 'height': '109.0', 'offset': '14.0', 'rotation': '0.0', 'userName': 'admin'}\n",
            "a\n",
            "{'x': '684.0', 'y': '878.0', 'width': '71.0', 'height': '106.0', 'offset': '12.0', 'rotation': '0.0', 'userName': 'admin'}\n",
            "roll\n",
            "{'x': '806.0', 'y': '844.0', 'width': '218.0', 'height': '141.0', 'offset': '26.0', 'rotation': '0.0', 'userName': 'admin'}\n"
          ]
        }
      ],
      "source": [
        "for im in root:\n",
        "    im_name = im[0].text\n",
        "    for bboxes in im.findall('taggedRectangles'):\n",
        "        for bbox in bboxes:\n",
        "            print(bbox[0].text)\n",
        "            print(bbox.attrib)\n",
        "    break"
      ]
    },
    {
      "cell_type": "code",
      "execution_count": 26,
      "metadata": {
        "id": "-iZt259eigh5"
      },
      "outputs": [],
      "source": [
        "def extract_data(path):\n",
        "    tree = ET.parse(path)\n",
        "    root = tree.getroot()\n",
        "\n",
        "    im_paths, im_sizes, im_labels, im_bboxes = [], [], [], []\n",
        "    for im in root:\n",
        "        bboxes = []\n",
        "        labels = []\n",
        "\n",
        "        for bbs in im.findall('taggedRectangles'):\n",
        "            for bb in bbs:\n",
        "                if not bb[0].text.isalnum():\n",
        "                    continue\n",
        "                if \"é\" in bb[0].text.lower() or \"ñ\" in bb[0].text.lower():\n",
        "                    continue\n",
        "\n",
        "                bboxes.append(\n",
        "                    [float(bb.attrib['x']),\n",
        "                     float(bb.attrib['y']),\n",
        "                     float(bb.attrib['width']),\n",
        "                     float(bb.attrib['height'])]\n",
        "                )\n",
        "                labels.append(bb[0].text.lower())\n",
        "\n",
        "        im_paths.append(im[0].text)\n",
        "        im_sizes.append((int(im[1].attrib['x']), int(im[1].attrib['y'])))\n",
        "        im_labels.append(labels)\n",
        "        im_bboxes.append(bboxes)\n",
        "\n",
        "    return im_paths, im_sizes, im_labels, im_bboxes"
      ]
    },
    {
      "cell_type": "code",
      "execution_count": 28,
      "metadata": {
        "colab": {
          "base_uri": "https://localhost:8080/"
        },
        "id": "oThUbHORllvl",
        "outputId": "9e9b4e3f-fd01-40ad-a407-254327ae601d"
      },
      "outputs": [
        {
          "name": "stdout",
          "output_type": "stream",
          "text": [
            "apanar_06.08.2002/IMG_1261.JPG\n",
            "(1600, 1200)\n",
            "['self', 'adhesive', 'address', 'labels', '36', '89m', 'cls', '250', 'on', 'a', 'roll']\n",
            "[[174.0, 392.0, 274.0, 195.0], [512.0, 391.0, 679.0, 183.0], [184.0, 612.0, 622.0, 174.0], [863.0, 599.0, 446.0, 187.0], [72.0, 6.0, 95.0, 87.0], [247.0, 2.0, 197.0, 88.0], [792.0, 0.0, 115.0, 81.0], [200.0, 848.0, 228.0, 139.0], [473.0, 878.0, 165.0, 109.0], [684.0, 878.0, 71.0, 106.0], [806.0, 844.0, 218.0, 141.0]]\n"
          ]
        }
      ],
      "source": [
        "im_paths, im_sizes, im_labels, im_bboxes = extract_data(path)\n",
        "print(im_paths[0])\n",
        "print(im_sizes[0])\n",
        "print(im_labels[0])\n",
        "print(im_bboxes[0])"
      ]
    },
    {
      "cell_type": "markdown",
      "metadata": {
        "id": "icCJW1lxmzsf"
      },
      "source": [
        "## Convert to YOLO format"
      ]
    },
    {
      "cell_type": "code",
      "execution_count": 29,
      "metadata": {
        "id": "UWNvlwpXm1D4"
      },
      "outputs": [],
      "source": [
        "def convert_to_yolo_format(im_paths, im_sizes, im_bboxes):\n",
        "    yolo_data = []\n",
        "    for im_path, im_size, im_bbox in zip(im_paths, im_sizes, im_bboxes):\n",
        "        im_width, im_height = im_size\n",
        "        yolo_labels = []\n",
        "\n",
        "        for bbox in im_bbox:\n",
        "            x, y, w, h = bbox # (topleft_x, topleft_y, width, height)\n",
        "            x_center = (x + w / 2) / im_width\n",
        "            y_center = (y + h / 2) / im_height\n",
        "            w /= im_width\n",
        "            h /= im_height\n",
        "            class_id = 0\n",
        "\n",
        "            yolo_labels.append(f'{class_id} {x_center} {y_center} {w} {h}')\n",
        "        yolo_data.append((im_path, yolo_labels))\n",
        "    return yolo_data"
      ]
    },
    {
      "cell_type": "code",
      "execution_count": 32,
      "metadata": {
        "colab": {
          "base_uri": "https://localhost:8080/"
        },
        "id": "vKjWzz5AoH87",
        "outputId": "f784f154-b3f4-46b9-f257-2346ed702584"
      },
      "outputs": [
        {
          "data": {
            "text/plain": [
              "[('apanar_06.08.2002/IMG_1261.JPG',\n",
              "  ['0 0.194375 0.40791666666666665 0.17125 0.1625',\n",
              "   '0 0.5321875 0.40208333333333335 0.424375 0.1525',\n",
              "   '0 0.309375 0.5825 0.38875 0.145',\n",
              "   '0 0.67875 0.5770833333333333 0.27875 0.15583333333333332',\n",
              "   '0 0.0746875 0.04125 0.059375 0.0725',\n",
              "   '0 0.2159375 0.03833333333333333 0.123125 0.07333333333333333',\n",
              "   '0 0.5309375 0.03375 0.071875 0.0675',\n",
              "   '0 0.19625 0.7645833333333333 0.1425 0.11583333333333333',\n",
              "   '0 0.3471875 0.7770833333333333 0.103125 0.09083333333333334',\n",
              "   '0 0.4496875 0.7758333333333334 0.044375 0.08833333333333333',\n",
              "   '0 0.571875 0.7620833333333333 0.13625 0.1175']),\n",
              " ('apanar_06.08.2002/IMG_1263.JPG',\n",
              "  ['0 0.5346875 0.6008333333333333 0.529375 0.14333333333333334']),\n",
              " ('apanar_06.08.2002/IMG_1265.JPG',\n",
              "  ['0 0.566875 0.21875 0.31375 0.0675',\n",
              "   '0 0.56 0.22375 0.3375 0.025833333333333333',\n",
              "   '0 0.5709375 0.28458333333333335 0.255625 0.0575',\n",
              "   '0 0.5771875 0.33708333333333335 0.165625 0.060833333333333336',\n",
              "   '0 0.7378125 0.8020833333333334 0.035625 0.015833333333333335',\n",
              "   '0 0.4278125 0.8445833333333334 0.039375 0.0125',\n",
              "   '0 0.7228125 0.8175 0.069375 0.011666666666666667',\n",
              "   '0 0.6875 0.84 0.04375 0.013333333333333334',\n",
              "   '0 0.734375 0.8395833333333333 0.04625 0.0125',\n",
              "   '0 0.7121875 0.8616666666666667 0.090625 0.015'])]"
            ]
          },
          "execution_count": 32,
          "metadata": {},
          "output_type": "execute_result"
        }
      ],
      "source": [
        "class_labels = ['text']\n",
        "yolo_data = convert_to_yolo_format(im_paths, im_sizes, im_bboxes)\n",
        "yolo_data[:3]"
      ]
    }
  ],
  "metadata": {
    "colab": {
      "provenance": []
    },
    "kernelspec": {
      "display_name": "Python 3",
      "name": "python3"
    },
    "language_info": {
      "name": "python"
    }
  },
  "nbformat": 4,
  "nbformat_minor": 0
}
